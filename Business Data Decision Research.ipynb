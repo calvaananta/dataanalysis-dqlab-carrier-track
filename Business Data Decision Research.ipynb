{
 "cells": [
  {
   "cell_type": "markdown",
   "id": "85a881f4-f424-47c5-b360-75d696b3369d",
   "metadata": {},
   "source": [
    "# Business Data Decision Research"
   ]
  },
  {
   "cell_type": "markdown",
   "id": "34ad3f9f-7bc9-4052-bfff-5b409235541f",
   "metadata": {},
   "source": [
    "## Overview\n",
    "\n",
    "**DQLab sport center** adalah toko yang menjual berbagai kebutuhan olahraga seperti Jaket, Baju, Tas, dan Sepatu. Toko ini mulai berjualan sejak tahun 2013, sehingga sudah memlliki pelanggan tetap sejak lama, dan tetap berusaha untuk mendapatkan pelanggan baru sampai saat ini.\n",
    "\n",
    "Di awal tahun 2019,   manajer toko tersebut merekrut junior DA untuk membantu  memecahkan masalah yang ada di tokonya, yaitu menurunnya pelanggan yang membeli kembali ke tokonya.  Junior DA tersebut pun diberi kepercayaan mengolah data transaksi toko tersebut. Manajer toko mendefinisikan bahwa customer termasuk sudah bukan disebut pelanggan lagi (churn) ketika dia sudah tidak bertransaksi ke tokonya lagi sampai dengan 6 bulan terakhir dari update data terakhir yang tersedia. "
   ]
  },
  {
   "cell_type": "markdown",
   "id": "51b6481b-0da3-4904-9c77-416293aac281",
   "metadata": {},
   "source": [
    "## Table of Contents\n",
    "\n",
    "1. Data Preparation\n",
    "2. Data Visualization\n",
    "3. Modelling using Logistic Regression Algorithm\n",
    "4. Train model\n",
    "5. Predict\n",
    "6. Evaluation"
   ]
  },
  {
   "cell_type": "markdown",
   "id": "fe34c8e7-b162-4b20-beaa-6c4e5d6250d9",
   "metadata": {},
   "source": [
    "### Data Preparation\n",
    "\n",
    "#### Library yang digunakan\n",
    "\n",
    "pandas, numpy, seaborn, sklearn, dan matplotlib\n",
    "\n"
   ]
  },
  {
   "cell_type": "code",
   "execution_count": 53,
   "id": "24f6a34a-b663-4f27-b179-153035232fb7",
   "metadata": {},
   "outputs": [],
   "source": [
    "import pandas as pd\n",
    "import numpy as np\n",
    "import matplotlib.pyplot as plt\n",
    "import seaborn as sns\n",
    "from sklearn.linear_model import LogisticRegression\n",
    "from sklearn.metrics import confusion_matrix, classification_report, accuracy_score, precision_score, recall_score\n",
    "from sklearn.model_selection import train_test_split   "
   ]
  },
  {
   "cell_type": "markdown",
   "id": "28792c5e-096e-4690-ab77-22798617eeb5",
   "metadata": {},
   "source": [
    "#### Importing Dataset\n",
    "\n",
    "Dataset yang digunakan berasal dari https://storage.googleapis.com/dqlab-dataset/data_retail.csv"
   ]
  },
  {
   "cell_type": "code",
   "execution_count": 24,
   "id": "4ee65540-457a-4ab1-acd2-0aaca706083d",
   "metadata": {},
   "outputs": [
    {
     "name": "stdout",
     "output_type": "stream",
     "text": [
      "Lima data teratas:\n",
      "   no  Row_Num  Customer_ID Product  First_Transaction  Last_Transaction  \\\n",
      "0   1        1        29531   Jaket      1466304274396     1538718482608   \n",
      "1   2        2        29531  Sepatu      1406077331494     1545735761270   \n",
      "2   3        3       141526     Tas      1493349147000     1548322802000   \n",
      "3   4        4       141526   Jaket      1493362372547     1547643603911   \n",
      "4   5        5        37545  Sepatu      1429178498531     1542891221530   \n",
      "\n",
      "   Average_Transaction_Amount  Count_Transaction  \n",
      "0                     1467681                 22  \n",
      "1                     1269337                 41  \n",
      "2                      310915                 30  \n",
      "3                      722632                 27  \n",
      "4                     1775036                 25  \n",
      "\n",
      "Info dataset:\n",
      "<class 'pandas.core.frame.DataFrame'>\n",
      "RangeIndex: 100000 entries, 0 to 99999\n",
      "Data columns (total 8 columns):\n",
      " #   Column                      Non-Null Count   Dtype \n",
      "---  ------                      --------------   ----- \n",
      " 0   no                          100000 non-null  int64 \n",
      " 1   Row_Num                     100000 non-null  int64 \n",
      " 2   Customer_ID                 100000 non-null  int64 \n",
      " 3   Product                     100000 non-null  object\n",
      " 4   First_Transaction           100000 non-null  int64 \n",
      " 5   Last_Transaction            100000 non-null  int64 \n",
      " 6   Average_Transaction_Amount  100000 non-null  int64 \n",
      " 7   Count_Transaction           100000 non-null  int64 \n",
      "dtypes: int64(7), object(1)\n",
      "memory usage: 6.1+ MB\n",
      "None\n"
     ]
    }
   ],
   "source": [
    "df = pd.read_csv('https://storage.googleapis.com/dqlab-dataset/data_retail.csv', sep=';')\n",
    "\n",
    "print('Lima data teratas:')\n",
    "print(df.head())\n",
    "\n",
    "print('\\nInfo dataset:')\n",
    "print(df.info())"
   ]
  },
  {
   "cell_type": "markdown",
   "id": "d8b03900-9fff-40d0-bc54-d648bcd21e46",
   "metadata": {},
   "source": [
    "#### Data Cleansing\n",
    "\n",
    "Terdapat dua kolom yang menunjukkan waktu terjadinya transaksi namun belum bertipe datetime. Maka data pada kedua kolom tersebut akan diubah menjadi tipe datetime dengan memanfaatkan library pandas"
   ]
  },
  {
   "cell_type": "code",
   "execution_count": 25,
   "id": "f94e597f-02c5-4912-bcfe-5e272fefe866",
   "metadata": {},
   "outputs": [
    {
     "name": "stdout",
     "output_type": "stream",
     "text": [
      "Lima data teratas:\n",
      "   no  Row_Num  Customer_ID Product             First_Transaction  \\\n",
      "0   1        1        29531   Jaket 2016-06-19 02:44:34.396000000   \n",
      "1   2        2        29531  Sepatu 2014-07-23 01:02:11.493999872   \n",
      "2   3        3       141526     Tas 2017-04-28 03:12:27.000000000   \n",
      "3   4        4       141526   Jaket 2017-04-28 06:52:52.546999808   \n",
      "4   5        5        37545  Sepatu 2015-04-16 10:01:38.530999808   \n",
      "\n",
      "               Last_Transaction  Average_Transaction_Amount  Count_Transaction  \n",
      "0 2018-10-05 05:48:02.608000000                     1467681                 22  \n",
      "1 2018-12-25 11:02:41.269999872                     1269337                 41  \n",
      "2 2019-01-24 09:40:02.000000000                      310915                 30  \n",
      "3 2019-01-16 13:00:03.911000064                      722632                 27  \n",
      "4 2018-11-22 12:53:41.529999872                     1775036                 25  \n"
     ]
    }
   ],
   "source": [
    "# Kolom First_Transaction\n",
    "df['First_Transaction'] = pd.to_datetime(df['First_Transaction']/1000, unit='s', origin='1970-01-01')\n",
    "# Kolom Last_Transaction\n",
    "df['Last_Transaction'] = pd.to_datetime(df['Last_Transaction']/1000, unit='s', origin='1970-01-01')\n",
    "\n",
    "print('Lima data teratas:')\n",
    "print(df.head())"
   ]
  },
  {
   "cell_type": "markdown",
   "id": "1806e02d-1832-411b-aaaf-86fa2c6b2f39",
   "metadata": {},
   "source": [
    "Manajer toko mendefinisikan bahwa customer termasuk sudah bukan disebut pelanggan lagi (**churn**) ketika dia sudah tidak bertransaksi ke tokonya lagi sampai dengan 6 bulan terakhir dari update data terakhir yang tersedia. \n",
    "\n",
    "Untuk menentukan *churn customers* sesuai definisi tersebut, maka akan akan dicari\n",
    "\n",
    "- kapan transaksi paling terakhir dilakukan\n",
    "- klasifikasi mana customer yang berstatus *churn* dan mana yang bukan."
   ]
  },
  {
   "cell_type": "code",
   "execution_count": 26,
   "id": "dbfa1217-ab03-425f-b64c-53a8ad9dc39c",
   "metadata": {},
   "outputs": [
    {
     "name": "stdout",
     "output_type": "stream",
     "text": [
      "2019-02-01 23:57:57.286000128\n",
      "Lima data teratas:\n",
      "   no  Row_Num  Customer_ID Product             First_Transaction  \\\n",
      "0   1        1        29531   Jaket 2016-06-19 02:44:34.396000000   \n",
      "1   2        2        29531  Sepatu 2014-07-23 01:02:11.493999872   \n",
      "2   3        3       141526     Tas 2017-04-28 03:12:27.000000000   \n",
      "3   4        4       141526   Jaket 2017-04-28 06:52:52.546999808   \n",
      "4   5        5        37545  Sepatu 2015-04-16 10:01:38.530999808   \n",
      "\n",
      "               Last_Transaction  Average_Transaction_Amount  \\\n",
      "0 2018-10-05 05:48:02.608000000                     1467681   \n",
      "1 2018-12-25 11:02:41.269999872                     1269337   \n",
      "2 2019-01-24 09:40:02.000000000                      310915   \n",
      "3 2019-01-16 13:00:03.911000064                      722632   \n",
      "4 2018-11-22 12:53:41.529999872                     1775036   \n",
      "\n",
      "   Count_Transaction is_churn  \n",
      "0                 22    False  \n",
      "1                 41    False  \n",
      "2                 30    False  \n",
      "3                 27    False  \n",
      "4                 25    False  \n",
      "\n",
      "Info dataset:\n",
      "<class 'pandas.core.frame.DataFrame'>\n",
      "RangeIndex: 100000 entries, 0 to 99999\n",
      "Data columns (total 9 columns):\n",
      " #   Column                      Non-Null Count   Dtype         \n",
      "---  ------                      --------------   -----         \n",
      " 0   no                          100000 non-null  int64         \n",
      " 1   Row_Num                     100000 non-null  int64         \n",
      " 2   Customer_ID                 100000 non-null  int64         \n",
      " 3   Product                     100000 non-null  object        \n",
      " 4   First_Transaction           100000 non-null  datetime64[ns]\n",
      " 5   Last_Transaction            100000 non-null  datetime64[ns]\n",
      " 6   Average_Transaction_Amount  100000 non-null  int64         \n",
      " 7   Count_Transaction           100000 non-null  int64         \n",
      " 8   is_churn                    100000 non-null  object        \n",
      "dtypes: datetime64[ns](2), int64(5), object(2)\n",
      "memory usage: 6.9+ MB\n",
      "None\n"
     ]
    }
   ],
   "source": [
    "# Pengecekan transaksaksi terakhir dalam dataset\n",
    "print(max(df['Last_Transaction']))\n",
    "\n",
    "# Klasifikasikan customer yang berstatus churn atau tidak dengan boolean\n",
    "df.loc[df['Last_Transaction']<='2018-08-01', 'is_churn'] = True\n",
    "df.loc[df['Last_Transaction']>'2018-08-01', 'is_churn'] = False \n",
    "\n",
    "print('Lima data teratas:')\n",
    "print(df.head())\n",
    "\n",
    "print('\\nInfo dataset:')\n",
    "print(df.info())"
   ]
  },
  {
   "cell_type": "markdown",
   "id": "4e737f24-1436-4e89-9b01-31e985cd9b63",
   "metadata": {},
   "source": [
    "Kolom 'no' dan 'Row_Num' akan dihapus karena tidak memiliki kepentingan dalam analisis selanjutnya."
   ]
  },
  {
   "cell_type": "code",
   "execution_count": 27,
   "id": "f554f9b5-c601-4027-9f7d-c703df867cd7",
   "metadata": {},
   "outputs": [
    {
     "name": "stdout",
     "output_type": "stream",
     "text": [
      "   Customer_ID Product             First_Transaction  \\\n",
      "0        29531   Jaket 2016-06-19 02:44:34.396000000   \n",
      "1        29531  Sepatu 2014-07-23 01:02:11.493999872   \n",
      "2       141526     Tas 2017-04-28 03:12:27.000000000   \n",
      "3       141526   Jaket 2017-04-28 06:52:52.546999808   \n",
      "4        37545  Sepatu 2015-04-16 10:01:38.530999808   \n",
      "\n",
      "               Last_Transaction  Average_Transaction_Amount  \\\n",
      "0 2018-10-05 05:48:02.608000000                     1467681   \n",
      "1 2018-12-25 11:02:41.269999872                     1269337   \n",
      "2 2019-01-24 09:40:02.000000000                      310915   \n",
      "3 2019-01-16 13:00:03.911000064                      722632   \n",
      "4 2018-11-22 12:53:41.529999872                     1775036   \n",
      "\n",
      "   Count_Transaction is_churn  \n",
      "0                 22    False  \n",
      "1                 41    False  \n",
      "2                 30    False  \n",
      "3                 27    False  \n",
      "4                 25    False  \n"
     ]
    }
   ],
   "source": [
    "# Hapus kolom-kolom yang tidak diperlukan\n",
    "del df['no']\n",
    "del df['Row_Num']\n",
    "\n",
    "# Cetak lima data teratas\n",
    "print(df.head())"
   ]
  },
  {
   "cell_type": "markdown",
   "id": "3339e795-9be5-4603-ade0-4bdb9cb54e2a",
   "metadata": {},
   "source": [
    "### Data Visuzlization\n",
    "\n",
    "#### Trend customer acquisition per tahun dengan bar chart"
   ]
  },
  {
   "cell_type": "code",
   "execution_count": 28,
   "id": "25dbe091-5eb9-4d1a-838d-81c0cd5c8a1a",
   "metadata": {},
   "outputs": [
    {
     "data": {
      "image/png": "[encoded data removed]",
      "text/plain": [
       "<Figure size 432x288 with 1 Axes>"
      ]
     },
     "metadata": {
      "needs_background": "light"
     },
     "output_type": "display_data"
    }
   ],
   "source": [
    "# Kolom tahun transaksi pertama\n",
    "df['Year_First_Transaction'] = df['First_Transaction'].dt.year\n",
    "# Kolom tahun transaksi terakhir\n",
    "df['Year_Last_Transaction'] = df['Last_Transaction'].dt.year\n",
    "\n",
    "df_year = df.groupby(['Year_First_Transaction'])['Customer_ID'].count()\n",
    "df_year.plot(x='Year_First_Transaction', y='Customer_ID', kind='bar', title='Graph of Customer Acquisition')\n",
    "plt.xlabel('Year_First_Transaction')\n",
    "plt.ylabel('Num_of_Customer')\n",
    "plt.tight_layout()\n",
    "plt.show()"
   ]
  },
  {
   "cell_type": "markdown",
   "id": "cdb6ab66-fa1d-4d53-b930-0fbf546dd5e3",
   "metadata": {},
   "source": [
    "#### Trend jumlah transaksi per tahun dengan bar chart"
   ]
  },
  {
   "cell_type": "code",
   "execution_count": 29,
   "id": "69735fff-762a-4e12-8f13-923e7686b9e5",
   "metadata": {},
   "outputs": [
    {
     "data": {
      "image/png": "[encoded data removed]",
      "text/plain": [
       "<Figure size 432x288 with 1 Axes>"
      ]
     },
     "metadata": {
      "needs_background": "light"
     },
     "output_type": "display_data"
    }
   ],
   "source": [
    "plt.clf()\n",
    "df_year = df.groupby(['Year_First_Transaction'])['Count_Transaction'].sum()\n",
    "df_year.plot(x='Year_First_Transaction', y='Count_Transaction', kind='bar', title='Graph of Transaction Customer')\n",
    "plt.xlabel('Year_First_Transaction')\n",
    "plt.ylabel('Num_Of_Transaction')\n",
    "plt.tight_layout()\n",
    "plt.show()"
   ]
  },
  {
   "cell_type": "markdown",
   "id": "39223f46-dbe2-4f23-9a41-b01725f139eb",
   "metadata": {},
   "source": [
    "#### Trend rata-rata jumlah transaksi untuk setiap produk per tahun dengan pointplot (seaborn)"
   ]
  },
  {
   "cell_type": "code",
   "execution_count": 30,
   "id": "08edab26-aeef-42d9-aeb4-112d8a7bee02",
   "metadata": {},
   "outputs": [
    {
     "data": {
      "image/png": "[encoded data removed]",
      "text/plain": [
       "<Figure size 432x288 with 1 Axes>"
      ]
     },
     "metadata": {
      "needs_background": "light"
     },
     "output_type": "display_data"
    }
   ],
   "source": [
    "plt.clf()\n",
    "sns.pointplot(data = df.groupby(['Product', 'Year_First_Transaction']).mean().reset_index(), \n",
    "              x='Year_First_Transaction', \n",
    "              y='Average_Transaction_Amount', \n",
    "              hue='Product')\n",
    "plt.tight_layout()\n",
    "plt.show()"
   ]
  },
  {
   "cell_type": "markdown",
   "id": "40688b2f-e4c9-4678-a743-d0699dca6b2f",
   "metadata": {},
   "source": [
    "#### Proporsi churned customer untuk setiap produk dengan pie chart"
   ]
  },
  {
   "cell_type": "code",
   "execution_count": 31,
   "id": "6bea5742-09a8-4725-bac3-579271ce6586",
   "metadata": {},
   "outputs": [
    {
     "data": {
      "text/plain": [
       "<Figure size 432x288 with 0 Axes>"
      ]
     },
     "metadata": {},
     "output_type": "display_data"
    },
    {
     "data": {
      "image/png": "[encoded data removed]",
      "text/plain": [
       "<Figure size 720x504 with 4 Axes>"
      ]
     },
     "metadata": {},
     "output_type": "display_data"
    }
   ],
   "source": [
    "plt.clf()\n",
    "# Melakukan pivot data dengan pivot_table\n",
    "df_piv = df.pivot_table(index='is_churn', \n",
    "                        columns='Product',\n",
    "                        values='Customer_ID', \n",
    "                        aggfunc='count', \n",
    "                        fill_value=0)\n",
    "# Mendapatkan Proportion Churn by Product\n",
    "plot_product = df_piv.count().sort_values(ascending=False).head(5).index\n",
    "# Plot pie chartnya\n",
    "df_piv = df_piv.reindex(columns=plot_product)\n",
    "df_piv.plot.pie(subplots=True,\n",
    "                figsize=(10, 7),\n",
    "                layout=(-1, 2),\n",
    "                autopct='%1.0f%%',\n",
    "                title='Proportion Churn by Product')\n",
    "plt.tight_layout()\n",
    "plt.show()"
   ]
  },
  {
   "cell_type": "markdown",
   "id": "e879112b-aa35-4199-93e1-215ebca60faa",
   "metadata": {},
   "source": [
    "#### Distribusi kategori jumlah transaksi dari kolom 'count_transaction' dengan bar chart"
   ]
  },
  {
   "cell_type": "code",
   "execution_count": 32,
   "id": "b523ad14-5301-4d4d-9c35-297ced8540f3",
   "metadata": {},
   "outputs": [
    {
     "data": {
      "image/png": "[encoded data removed]",
      "text/plain": [
       "<Figure size 432x288 with 1 Axes>"
      ]
     },
     "metadata": {
      "needs_background": "light"
     },
     "output_type": "display_data"
    }
   ],
   "source": [
    "plt.clf()\n",
    "# Kategorisasi jumlah transaksi\n",
    "def func(row):\n",
    "    if row['Count_Transaction'] == 1:\n",
    "        val = '1. 1'\n",
    "    elif (row['Count_Transaction'] > 1 and row['Count_Transaction'] <= 3):\n",
    "        val ='2.2-3'\n",
    "    elif (row['Count_Transaction'] > 3 and row['Count_Transaction'] <= 6):\n",
    "        val ='3.4-6'\n",
    "    elif (row['Count_Transaction'] > 6 and row['Count_Transaction'] <= 10):\n",
    "        val ='4.7-10'\n",
    "    else:\n",
    "        val ='5.>10'\n",
    "    return val\n",
    "# Tambahkan kolom baru\n",
    "df['Count_Transaction_Group'] = df.apply(func, axis=1)\n",
    "\n",
    "df_year = df.groupby(['Count_Transaction_Group'])['Customer_ID'].count()\n",
    "df_year.plot(x='Count_Transaction_Group', y='Customer_ID', kind='bar', title='Customer Distribution by Count Transaction Group')\n",
    "plt.xlabel('Count_Transaction_Group')\n",
    "plt.ylabel('Num_of_Customer')\n",
    "plt.tight_layout()\n",
    "plt.show()"
   ]
  },
  {
   "cell_type": "markdown",
   "id": "ff869620-39f2-4ff5-ae63-88f7276b3958",
   "metadata": {},
   "source": [
    "#### Distribusi kategori rata-rata jumlah transaksi dari kolom 'Average_Transaction_Amount' dengan bar chart"
   ]
  },
  {
   "cell_type": "code",
   "execution_count": 33,
   "id": "b1bd5a32-f921-4fab-8e82-b6b5c8949747",
   "metadata": {},
   "outputs": [
    {
     "data": {
      "image/png": "[encoded data removed]",
      "text/plain": [
       "<Figure size 432x288 with 1 Axes>"
      ]
     },
     "metadata": {
      "needs_background": "light"
     },
     "output_type": "display_data"
    }
   ],
   "source": [
    "plt.clf()\n",
    "# Kategorisasi rata-rata besar transaksi\n",
    "def f(row):\n",
    "    if (row['Average_Transaction_Amount'] >= 100000 and row['Average_Transaction_Amount'] <= 200000):\n",
    "        val ='1. 100.000 - 250.000'\n",
    "    elif (row['Average_Transaction_Amount'] > 250000 and row['Average_Transaction_Amount'] <= 500000):\n",
    "        val ='2. >250.000 - 500.000'\n",
    "    elif (row['Average_Transaction_Amount'] > 500000 and row['Average_Transaction_Amount'] <= 750000):\n",
    "        val = '3. >500.000 - 750.000'\n",
    "    elif (row['Average_Transaction_Amount'] > 750000 and row['Average_Transaction_Amount'] <= 1000000):\n",
    "        val = '4. >750.000 - 1.000.000'\n",
    "    elif (row['Average_Transaction_Amount'] > 1000000 and row['Average_Transaction_Amount'] <= 2500000):\n",
    "        val = '5. >1.000.000 - 2.500.000'\n",
    "    elif (row['Average_Transaction_Amount'] > 2500000 and row['Average_Transaction_Amount'] <= 5000000):\n",
    "        val = '6. >2.500.000 - 5.000.000'\n",
    "    elif (row['Average_Transaction_Amount'] > 5000000 and row['Average_Transaction_Amount'] <= 10000000):\n",
    "        val = '7. >5.000.000 - 10.000.000'\n",
    "    else:\n",
    "        val = '8. >10.000.000'\n",
    "    return val\n",
    "# Tambahkan kolom baru\n",
    "df['Average_Transaction_Amount_Group'] = df.apply(f, axis=1)\n",
    "\n",
    "df_year = df.groupby(['Average_Transaction_Amount_Group'])['Customer_ID'].count()\n",
    "df_year.plot(x='Average_Transaction_Amount_Group', y='Customer_ID', kind='bar', title='Customer Distribution by Average Transaction Amount Group')\n",
    "plt.xlabel('Average_Transaction_Amount_Group')\n",
    "plt.ylabel('Num_of_Customer')\n",
    "plt.tight_layout()\n",
    "plt.show()"
   ]
  },
  {
   "cell_type": "markdown",
   "id": "e64429c3-70aa-4d02-be0a-0f15f72bfb2d",
   "metadata": {},
   "source": [
    "### Modelling\n",
    "\n",
    "#### Menentukan feature Columns dan Target Column\n",
    "\n",
    "Pada dataset retail.csv, fitur yang dipilih adalah 'Average_Transaction_Amount', 'Count_Transaction', dan 'Year_Diff'. Kolom 'Year_Diff' merupakan kolom yang berisi selisih data 'Year_Last_Transaction' dan 'Year_First_Transaction'. Target pada dataset ini adalah kolom 'is_churn' yang menentukan data tersebut merupakan churn atau bukan di  mana True adalah churn, dan Flase adalah bukan churn."
   ]
  },
  {
   "cell_type": "code",
   "execution_count": 45,
   "id": "d543f0c0-6060-4b79-bffa-91cf307bbb42",
   "metadata": {},
   "outputs": [],
   "source": [
    "# Feature column: Year_Diff\n",
    "df['Year_Diff'] = df['Year_Last_Transaction'] - df['Year_First_Transaction']\n",
    "\n",
    "# Nama-nama feature columns\n",
    "feature_columns = ['Average_Transaction_Amount', 'Count_Transaction', 'Year_Diff']\n",
    "\n",
    "# Features variable\n",
    "X = df[feature_columns] \n",
    "\n",
    "# Target variable\n",
    "y = df['is_churn'] \n",
    "y = y.astype(int) #tipe data target sebelumnya berupa 'object' dan perlu diganti menjadi int agar dapat dibaca sebagai parameter dalam method .fit()"
   ]
  },
  {
   "cell_type": "markdown",
   "id": "160e0690-aa3f-46f0-8266-c5d714c952a4",
   "metadata": {},
   "source": [
    "#### Splitting\n",
    "\n",
    "Pada bagian ini, variabel dipisahkan menjadi variabel training dan testing. Split data dilakukan dengan method **train_test_split()** dari **sklearn**. Perbandingan yang digunakan untuk variabel training dan testing di sini adalah 75:25."
   ]
  },
  {
   "cell_type": "code",
   "execution_count": 47,
   "id": "33560082-2e2f-4f88-93bc-a7f1e30b0de7",
   "metadata": {},
   "outputs": [],
   "source": [
    "X_train, X_test, y_train, y_test = train_test_split(X, y, test_size=0.25, random_state=0)"
   ]
  },
  {
   "cell_type": "markdown",
   "id": "415f75b5-fc6f-4c7c-ac6b-c1e10c90fcf9",
   "metadata": {},
   "source": [
    "#### Membuat model menggunakan algoritma Logistic Regression"
   ]
  },
  {
   "cell_type": "markdown",
   "id": "15998871-4738-4387-a250-07eda4e41381",
   "metadata": {},
   "source": [
    "model Logistic Regression akan dilatih dengan dataset yang sudah ada dan akan digunakan untuk memprediksi apakah customer merupakan churn atau bukan. Logistic Regression diimport dari **sklearn.linear_model**."
   ]
  },
  {
   "cell_type": "code",
   "execution_count": 48,
   "id": "e50c5161-99ee-4334-a169-153b08eea5ce",
   "metadata": {},
   "outputs": [],
   "source": [
    "# Inisiasi model logreg\n",
    "logreg = LogisticRegression()"
   ]
  },
  {
   "cell_type": "markdown",
   "id": "dd02ad90-142f-42b6-8974-a3aa98128430",
   "metadata": {},
   "source": [
    "#### Train model"
   ]
  },
  {
   "cell_type": "code",
   "execution_count": 49,
   "id": "061935cf-db91-4864-a767-9e5c084ebb62",
   "metadata": {},
   "outputs": [
    {
     "data": {
      "text/plain": [
       "LogisticRegression()"
      ]
     },
     "execution_count": 49,
     "metadata": {},
     "output_type": "execute_result"
    }
   ],
   "source": [
    "# fit the model with data\n",
    "logreg.fit(X_train, y_train)"
   ]
  },
  {
   "cell_type": "markdown",
   "id": "ae9e04e8-9512-4f02-89cf-33b513b6ffbc",
   "metadata": {},
   "source": [
    "#### Predict model"
   ]
  },
  {
   "cell_type": "code",
   "execution_count": 50,
   "id": "5107505b-d8d5-4109-b73d-a33b154e02cc",
   "metadata": {},
   "outputs": [],
   "source": [
    "# Predict model\n",
    "y_pred = logreg.predict(X_test)"
   ]
  },
  {
   "cell_type": "markdown",
   "id": "c6ca4e05-f2bf-44d6-9699-0c15bfa71f8b",
   "metadata": {},
   "source": [
    "#### Evaluate model\n",
    "\n"
   ]
  },
  {
   "cell_type": "code",
   "execution_count": 51,
   "id": "8980b472-46df-4e34-a6a9-ae71ce770f76",
   "metadata": {},
   "outputs": [
    {
     "name": "stdout",
     "output_type": "stream",
     "text": [
      "Confusion Matrix:\n",
      " [[    1  8330]\n",
      " [    3 16666]]\n"
     ]
    }
   ],
   "source": [
    "# Evaluasi model menggunakan confusion matrix\n",
    "cnf_matrix = confusion_matrix(y_test, y_pred)\n",
    "print('Confusion Matrix:\\n', cnf_matrix)"
   ]
  },
  {
   "cell_type": "markdown",
   "id": "ae906f92-f751-4992-9ac7-8e4b2362c0a4",
   "metadata": {},
   "source": [
    "#### VIsualisasi Confusion Matrix"
   ]
  },
  {
   "cell_type": "code",
   "execution_count": 52,
   "id": "9635722f-6a80-48dc-b8fa-15e32813a2c6",
   "metadata": {},
   "outputs": [
    {
     "data": {
      "text/plain": [
       "<Figure size 432x288 with 0 Axes>"
      ]
     },
     "metadata": {},
     "output_type": "display_data"
    },
    {
     "data": {
      "image/png": "[encoded data removed]",
      "text/plain": [
       "<Figure size 432x288 with 2 Axes>"
      ]
     },
     "metadata": {
      "needs_background": "light"
     },
     "output_type": "display_data"
    }
   ],
   "source": [
    "plt.clf()\n",
    "# name  of classes\n",
    "class_names = [0, 1] \n",
    "fig, ax = plt.subplots()\n",
    "\n",
    "tick_marks = np.arange(len(class_names))\n",
    "plt.xticks(tick_marks, class_names)\n",
    "plt.yticks(tick_marks, class_names)\n",
    "\n",
    "# create heatmap\n",
    "sns.heatmap(pd.DataFrame(cnf_matrix), annot=True, cmap='YlGnBu', fmt='g')\n",
    "ax.xaxis.set_label_position('top')\n",
    "plt.title('Confusion matrix', y=1.1)\n",
    "plt.ylabel('Actual')\n",
    "plt.xlabel('Predicted')\n",
    "plt.tight_layout()\n",
    "plt.show()"
   ]
  },
  {
   "cell_type": "markdown",
   "id": "b0f4d5b2-c6de-4a9f-9d6a-fa700221a909",
   "metadata": {},
   "source": [
    "#### Accuracy, Precision, dan Recall"
   ]
  },
  {
   "cell_type": "code",
   "execution_count": 54,
   "id": "54e84c20-8d18-421f-a85e-af70101b86d0",
   "metadata": {},
   "outputs": [
    {
     "name": "stdout",
     "output_type": "stream",
     "text": [
      "Accuracy : 0.66668\n",
      "Precision: 0.66668\n",
      "Recall   : 0.66668\n"
     ]
    }
   ],
   "source": [
    "#Menghitung Accuracy, Precision, dan Recall\n",
    "print('Accuracy :', accuracy_score(y_test, y_pred))\n",
    "print('Precision:', precision_score(y_test, y_pred, average='micro'))\n",
    "print('Recall   :', recall_score(y_test, y_pred, average='micro'))"
   ]
  }
 ],
 "metadata": {
  "kernelspec": {
   "display_name": "Python 3",
   "language": "python",
   "name": "python3"
  },
  "language_info": {
   "codemirror_mode": {
    "name": "ipython",
    "version": 3
   },
   "file_extension": ".py",
   "mimetype": "text/x-python",
   "name": "python",
   "nbconvert_exporter": "python",
   "pygments_lexer": "ipython3",
   "version": "3.8.8"
  }
 },
 "nbformat": 4,
 "nbformat_minor": 5
}
